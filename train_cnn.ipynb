{
 "cells": [
  {
   "cell_type": "code",
   "execution_count": 1,
   "metadata": {},
   "outputs": [
    {
     "name": "stdout",
     "output_type": "stream",
     "text": [
      "Using 10000 images for training and testing.\n",
      "Using device cuda\n"
     ]
    },
    {
     "ename": "UnboundLocalError",
     "evalue": "local variable 'num_fire_images' referenced before assignment",
     "output_type": "error",
     "traceback": [
      "\u001b[0;31m---------------------------------------------------------------------------\u001b[0m",
      "\u001b[0;31mUnboundLocalError\u001b[0m                         Traceback (most recent call last)",
      "Cell \u001b[0;32mIn[1], line 19\u001b[0m\n\u001b[1;32m     16\u001b[0m \u001b[38;5;66;03m# resize to 224x224 as preprocessing step\u001b[39;00m\n\u001b[1;32m     17\u001b[0m model_and_transform \u001b[38;5;241m=\u001b[39m ModelWithTransform(model, TRANSFORM)\n\u001b[0;32m---> 19\u001b[0m train,val,test \u001b[38;5;241m=\u001b[39m \u001b[43mget_image_data\u001b[49m\u001b[43m(\u001b[49m\u001b[43mn_samples\u001b[49m\u001b[43m)\u001b[49m\n\u001b[1;32m     21\u001b[0m \u001b[38;5;28mprint\u001b[39m(\u001b[38;5;28mlen\u001b[39m(train))\n\u001b[1;32m     23\u001b[0m \u001b[38;5;28;01mfor\u001b[39;00m i \u001b[38;5;129;01min\u001b[39;00m \u001b[38;5;28mrange\u001b[39m(\u001b[38;5;241m0\u001b[39m, \u001b[38;5;28mlen\u001b[39m(train)):\n",
      "File \u001b[0;32m/scratch/palle.a/FireDetection/data_extraction.py:103\u001b[0m, in \u001b[0;36mget_image_data\u001b[0;34m(n_total_samples)\u001b[0m\n\u001b[1;32m     90\u001b[0m \u001b[38;5;250m\u001b[39m\u001b[38;5;124;03m\"\"\"\u001b[39;00m\n\u001b[1;32m     91\u001b[0m \u001b[38;5;124;03mGenerate random data for training and testing.\u001b[39;00m\n\u001b[1;32m     92\u001b[0m \u001b[38;5;124;03m60/20/20 split for train/validation/test\u001b[39;00m\n\u001b[0;32m   (...)\u001b[0m\n\u001b[1;32m     97\u001b[0m \u001b[38;5;124;03m    Each data set is a list of tuples, where each tuple contains an image tensor and a boolean (True if fire, False if no fire).\u001b[39;00m\n\u001b[1;32m     98\u001b[0m \u001b[38;5;124;03m\"\"\"\u001b[39;00m\n\u001b[1;32m    102\u001b[0m \u001b[38;5;66;03m# get complete dataset (random sample of n_total_samples images) such that 50% are fire and 50% are no fire\u001b[39;00m\n\u001b[0;32m--> 103\u001b[0m fire_images \u001b[38;5;241m=\u001b[39m get_random_jpg_file_data(FIRE_IMAGE_DATA_PATH, \u001b[43mnum_fire_images\u001b[49m)\n\u001b[1;32m    104\u001b[0m nofire_images \u001b[38;5;241m=\u001b[39m get_random_jpg_file_data(PLACES_DATA_PATH, num_nofire_images)\n\u001b[1;32m    108\u001b[0m \u001b[38;5;66;03m# combine the lists and shuffle them\u001b[39;00m\n",
      "\u001b[0;31mUnboundLocalError\u001b[0m: local variable 'num_fire_images' referenced before assignment"
     ]
    }
   ],
   "source": [
    "\n",
    "from train_cnn import TrainingModel, init_training_params, train_cnn, TRANSFORM, ModelWithTransform, get_image_data, visualize_loss_curve, visualize_first_layer_weights\n",
    "import torch\n",
    "import matplotlib.pyplot as plt\n",
    "n_samples = 10000\n",
    "output_file_path = \"test_model.pth\"\n",
    "\n",
    "print(f\"Using {n_samples} images for training and testing.\")\n",
    "\n",
    "DEVICE = \"cuda\" if torch.cuda.is_available() else \"cpu\"\n",
    "\n",
    "print(f\"Using device {DEVICE}\")\n",
    "model = TrainingModel()\n",
    "\n",
    "training_params = init_training_params(model, device = DEVICE)\n",
    "\n",
    "# resize to 224x224 as preprocessing step\n",
    "model_and_transform = ModelWithTransform(model, TRANSFORM)\n",
    "\n",
    "train,val,test = get_image_data(n_samples)\n",
    "\n",
    "print(len(train))\n",
    "\n",
    "for i in range(0, len(train)):\n",
    "    if train[i][1]:\n",
    "        random_fire_img = train[i][0]\n",
    "        break\n",
    "\n",
    "\n",
    "# show original image\n",
    "plt.imshow(random_fire_img.squeeze(0).permute(1, 2, 0).numpy())\n",
    "plt.axis('off')\n",
    "plt.title(\"Original Image\")\n",
    "plt.show()\n",
    "\n",
    "random_fire_img = TRANSFORM(random_fire_img)\n",
    "\n",
    "\n"
   ]
  },
  {
   "cell_type": "code",
   "execution_count": null,
   "metadata": {},
   "outputs": [],
   "source": [
    "\n",
    "\n",
    "train_loss, val_loss ,fire_detector = train_cnn(model_and_transform,training_params,train, val)\n",
    "# Save the trained model to a file\n",
    "fire_detector.save_to_file(output_file_path)\n",
    "print(f\"Model saved to {output_file_path}\")\n",
    "\n",
    "\n"
   ]
  },
  {
   "cell_type": "code",
   "execution_count": null,
   "metadata": {},
   "outputs": [],
   "source": [
    "visualize_loss_curve(train_loss, val_loss)\n",
    "\n"
   ]
  },
  {
   "cell_type": "code",
   "execution_count": null,
   "metadata": {},
   "outputs": [],
   "source": [
    "visualize_first_layer_weights(fire_detector.model.trained_model, random_fire_img)\n"
   ]
  },
  {
   "cell_type": "code",
   "execution_count": null,
   "metadata": {},
   "outputs": [],
   "source": []
  }
 ],
 "metadata": {
  "kernelspec": {
   "display_name": "Python 3 (ipykernel)",
   "language": "python",
   "name": "python3"
  },
  "language_info": {
   "codemirror_mode": {
    "name": "ipython",
    "version": 3
   },
   "file_extension": ".py",
   "mimetype": "text/x-python",
   "name": "python",
   "nbconvert_exporter": "python",
   "pygments_lexer": "ipython3",
   "version": "3.10.16"
  }
 },
 "nbformat": 4,
 "nbformat_minor": 4
}
