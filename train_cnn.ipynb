{
 "cells": [
  {
   "cell_type": "code",
   "execution_count": null,
   "metadata": {},
   "outputs": [],
   "source": [
    "\n",
    "from train_cnn import TrainingModel, init_training_params, train_cnn, TRANSFORM, ModelWithTransform, get_image_data, visualize_loss_curve, visualize_first_layer_weights\n",
    "n_samples = 1000\n",
    "output_file_path = \"test_model.pth\"\n",
    "\n",
    "print(f\"Using {n_samples} images for training and testing.\")\n",
    "\n",
    "model = TrainingModel()\n",
    "training_params = init_training_params(model)\n",
    "\n",
    "# resize to 224x224 as preprocessing step\n",
    "model_and_transform = ModelWithTransform(model, TRANSFORM)\n",
    "\n",
    "train,val,test = get_image_data(n_samples)\n",
    "\n",
    "\n",
    "for i in range(0, len(train)):\n",
    "    if train[i][1]:\n",
    "        random_fire_img = TRANSFORM(train[i][0])\n",
    "        break\n",
    "\n",
    "\n",
    "\n",
    "train_loss, val_loss ,fire_detector = train_cnn(model_and_transform,training_params,train, val)\n",
    "# Save the trained model to a file\n",
    "fire_detector.save_to_file(output_file_path)\n",
    "print(f\"Model saved to {output_file_path}\")\n",
    "\n",
    "\n",
    "\n"
   ]
  },
  {
   "cell_type": "code",
   "execution_count": null,
   "metadata": {},
   "outputs": [],
   "source": [
    "visualize_loss_curve(train_loss, val_loss)\n",
    "\n"
   ]
  },
  {
   "cell_type": "code",
   "execution_count": null,
   "metadata": {},
   "outputs": [],
   "source": [
    "visualize_first_layer_weights(fire_detector.model.trained_model, random_fire_img)\n"
   ]
  }
 ],
 "metadata": {
  "language_info": {
   "name": "python"
  }
 },
 "nbformat": 4,
 "nbformat_minor": 2
}
